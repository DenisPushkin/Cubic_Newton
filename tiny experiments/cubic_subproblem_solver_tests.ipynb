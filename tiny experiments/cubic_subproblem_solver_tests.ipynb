{
 "cells": [
  {
   "cell_type": "code",
   "execution_count": 1,
   "metadata": {},
   "outputs": [],
   "source": [
    "import numpy as np\n",
    "from cubic_subproblem_solver import *"
   ]
  },
  {
   "cell_type": "code",
   "execution_count": 2,
   "metadata": {},
   "outputs": [
    {
     "name": "stdout",
     "output_type": "stream",
     "text": [
      "Main method\n",
      "solution: y = [-0.15064917 -0.75816762]\n",
      "optimal value = -0.6476819614059599\n",
      "\n",
      "Simple method\n",
      "solution: y = (-0.15151515151515138, -0.7575757575757578)\n",
      "optimal value = -0.647680289974774\n",
      "\n"
     ]
    }
   ],
   "source": [
    "# test 1\n",
    "A = np.diag([1.0, -1.0])\n",
    "g = np.array([0.5, 1])\n",
    "H = 6.0\n",
    "\n",
    "def f(y, g, A, H):\n",
    "    return np.dot(g,y) + 1/2 * np.dot(A@y, y) + H/6 * np.linalg.norm(y)**3\n",
    "\n",
    "r = 0.77299\n",
    "y_1 = - 1 / (2 * (1+3*r))\n",
    "y_2 = - 1 / (-1 + 3*r)\n",
    "y = np.array([y_1, y_2])\n",
    "\n",
    "y_hat = cubic_subproblem_solver(g, A, H)\n",
    "y_hat_2 = cubic_subproblem_simple_solver(g, A, H)\n",
    "assert np.allclose(y, y_hat)\n",
    "\n",
    "print('Main method')\n",
    "print(f'solution: y = {y_hat}')\n",
    "print(f'optimal value = {f(y_hat, g, A, H)}\\n')\n",
    "\n",
    "print('Simple method')\n",
    "print(f'solution: y = {y_hat_2}')\n",
    "print(f'optimal value = {f(y_hat_2, g, A, H)}\\n')"
   ]
  },
  {
   "cell_type": "code",
   "execution_count": 3,
   "metadata": {},
   "outputs": [
    {
     "name": "stdout",
     "output_type": "stream",
     "text": [
      "Main method\n",
      "solution: y = [-1.55821736  2.53481574 -4.52735552]\n",
      "optimal value = -98.57705702822878\n",
      "\n",
      "Simple method\n",
      "solution: y = (-1.5656565656565657, 2.5757575757575752, -4.494949494949495)\n",
      "optimal value = -98.56951742886886\n",
      "\n"
     ]
    }
   ],
   "source": [
    "# test 2\n",
    "A = np.diag([1, 0.5, -1])\n",
    "g = np.array([10, -15, 20])\n",
    "H = 2\n",
    "\n",
    "def f(y, g, A, H):\n",
    "    return np.dot(g,y) + 1/2 * np.dot(A@y, y) + H/6 * np.linalg.norm(y)**3\n",
    "\n",
    "r = 5.41759\n",
    "y_1 = - 10 / (1+r)\n",
    "y_2 = 15 / (0.5+r)\n",
    "y_3 = - 20 / (-1+r)\n",
    "y = np.array([y_1, y_2, y_3])\n",
    "\n",
    "y_hat = cubic_subproblem_solver(g, A, H)\n",
    "y_hat_2 = cubic_subproblem_simple_solver(g, A, H)\n",
    "assert np.allclose(y, y_hat)\n",
    "\n",
    "print('Main method')\n",
    "print(f'solution: y = {y_hat}')\n",
    "print(f'optimal value = {f(y_hat, g, A, H)}\\n')\n",
    "\n",
    "print('Simple method')\n",
    "print(f'solution: y = {y_hat_2}')\n",
    "print(f'optimal value = {f(y_hat_2, g, A, H)}\\n')"
   ]
  },
  {
   "cell_type": "code",
   "execution_count": 4,
   "metadata": {},
   "outputs": [
    {
     "name": "stdout",
     "output_type": "stream",
     "text": [
      "Main method\n",
      "solution: y = [ 0.4181142  -1.43710056  1.26311898]\n",
      "optimal value = -12.640543681514572\n",
      "\n",
      "Simple method\n",
      "solution: y = (0.45454545454545414, -1.4646464646464645, 1.262626262626262)\n",
      "optimal value = -12.629192066947692\n",
      "\n"
     ]
    }
   ],
   "source": [
    "# test 3\n",
    "A = np.diag([10, 5, 2])\n",
    "g = np.array([-5, 10, -5])\n",
    "H = 2\n",
    "\n",
    "def f(y, g, A, H):\n",
    "    return np.dot(g,y) + 1/2 * np.dot(A@y, y) + H/6 * np.linalg.norm(y)**3\n",
    "\n",
    "r = 1.95846\n",
    "y_1 = 5 / (10 + r)\n",
    "y_2 = - 10 / (5 + r)\n",
    "y_3 = 5 / (2 + r)\n",
    "y = np.array([y_1, y_2, y_3])\n",
    "\n",
    "y_hat = cubic_subproblem_solver(g, A, H)\n",
    "y_hat_2 = cubic_subproblem_simple_solver(g, A, H)\n",
    "assert np.allclose(y, y_hat)\n",
    "\n",
    "print('Main method')\n",
    "print(f'solution: y = {y_hat}')\n",
    "print(f'optimal value = {f(y_hat, g, A, H)}\\n')\n",
    "\n",
    "print('Simple method')\n",
    "print(f'solution: y = {y_hat_2}')\n",
    "print(f'optimal value = {f(y_hat_2, g, A, H)}\\n')"
   ]
  },
  {
   "cell_type": "code",
   "execution_count": 5,
   "metadata": {},
   "outputs": [
    {
     "name": "stdout",
     "output_type": "stream",
     "text": [
      "Main method\n",
      "solution: y = [ 0.4181142  -1.43710056  1.26311898]\n",
      "optimal value = -12.640543681514572\n",
      "\n",
      "Simple method\n",
      "solution: y = (0.45454545454545414, -1.4646464646464645, 1.262626262626262)\n",
      "optimal value = -12.629192066947692\n",
      "\n"
     ]
    }
   ],
   "source": [
    "# test 4\n",
    "A = np.diag([10, 5, 2])\n",
    "g = np.array([-5, 10, -5])\n",
    "H = 2\n",
    "\n",
    "def f(y, g, A, H):\n",
    "    return np.dot(g,y) + 1/2 * np.dot(A@y, y) + H/6 * np.linalg.norm(y)**3\n",
    "\n",
    "r = 1.95846\n",
    "y_1 = 5 / (10 + r)\n",
    "y_2 = - 10 / (5 + r)\n",
    "y_3 = 5 / (2 + r)\n",
    "y = np.array([y_1, y_2, y_3])\n",
    "\n",
    "y_hat = cubic_subproblem_solver(g, A, H)\n",
    "y_hat_2 = cubic_subproblem_simple_solver(g, A, H)\n",
    "assert np.allclose(y, y_hat)\n",
    "\n",
    "print('Main method')\n",
    "print(f'solution: y = {y_hat}')\n",
    "print(f'optimal value = {f(y_hat, g, A, H)}\\n')\n",
    "\n",
    "print('Simple method')\n",
    "print(f'solution: y = {y_hat_2}')\n",
    "print(f'optimal value = {f(y_hat_2, g, A, H)}\\n')"
   ]
  },
  {
   "cell_type": "code",
   "execution_count": 6,
   "metadata": {},
   "outputs": [
    {
     "name": "stdout",
     "output_type": "stream",
     "text": [
      "Main method\n",
      "solution: y = [1.         1.73205081]\n",
      "optimal value = -1.1666666666666672\n",
      "\n",
      "True solution\n",
      "solution: y = [1.         1.73205081]\n",
      "optimal value = -1.1666666666666672\n",
      "\n"
     ]
    }
   ],
   "source": [
    "# test 5 (degenerate case)\n",
    "A = np.diag([0, -1.0])\n",
    "g = np.array([-1, 0])\n",
    "H = 1.0\n",
    "\n",
    "def f(y, g, A, H):\n",
    "    return np.dot(g,y) + 1/2 * np.dot(A@y, y) + H/6 * np.linalg.norm(y)**3\n",
    "\n",
    "y_1 = 1.0\n",
    "y_2 = np.sqrt(3) # - np.sqrt(3) is second solution\n",
    "y = np.array([y_1, y_2])\n",
    "\n",
    "y_hat = cubic_subproblem_solver(g, A, H)\n",
    "y_hat_2 = cubic_subproblem_simple_solver(g, A, H)\n",
    "assert np.allclose(y, y_hat)\n",
    "\n",
    "print('Main method')\n",
    "print(f'solution: y = {y_hat}')\n",
    "print(f'optimal value = {f(y_hat, g, A, H)}\\n')\n",
    "\n",
    "print('True solution')\n",
    "print(f'solution: y = {y}')\n",
    "print(f'optimal value = {f(y, g, A, H)}\\n')"
   ]
  },
  {
   "cell_type": "code",
   "execution_count": 7,
   "metadata": {},
   "outputs": [
    {
     "name": "stdout",
     "output_type": "stream",
     "text": [
      "Main method\n",
      "solution: y = [2.62701862 0.76675478 4.09176267]\n",
      "optimal value = -15.25262718174378\n",
      "\n",
      "Simple method\n",
      "solution: y = (2.6767676767676765, 0.7575757575757578, 4.09090909090909)\n",
      "optimal value = -15.248745705647934\n",
      "\n"
     ]
    }
   ],
   "source": [
    "# test 6\n",
    "A = np.random.uniform(0, 2, (3,3)) - 1\n",
    "A = A + A.T\n",
    "g = np.array([-2, 1, -1.5])\n",
    "H = 1\n",
    "\n",
    "def f(y, g, A, H):\n",
    "    return np.dot(g,y) + 1/2 * np.dot(A@y, y) + H/6 * np.linalg.norm(y)**3\n",
    "\n",
    "y_hat = cubic_subproblem_solver(g, A, H)\n",
    "y_hat_2 = cubic_subproblem_simple_solver(g, A, H)\n",
    "\n",
    "print('Main method')\n",
    "print(f'solution: y = {y_hat}')\n",
    "print(f'optimal value = {f(y_hat, g, A, H)}\\n')\n",
    "\n",
    "print('Simple method')\n",
    "print(f'solution: y = {y_hat_2}')\n",
    "print(f'optimal value = {f(y_hat_2, g, A, H)}\\n')"
   ]
  }
 ],
 "metadata": {
  "kernelspec": {
   "display_name": "Python 3",
   "language": "python",
   "name": "python3"
  },
  "language_info": {
   "codemirror_mode": {
    "name": "ipython",
    "version": 3
   },
   "file_extension": ".py",
   "mimetype": "text/x-python",
   "name": "python",
   "nbconvert_exporter": "python",
   "pygments_lexer": "ipython3",
   "version": "3.7.9"
  }
 },
 "nbformat": 4,
 "nbformat_minor": 4
}
