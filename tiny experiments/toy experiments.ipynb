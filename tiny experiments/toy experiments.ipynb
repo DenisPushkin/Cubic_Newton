{
 "cells": [
  {
   "cell_type": "code",
   "execution_count": 1,
   "metadata": {},
   "outputs": [],
   "source": [
    "import numpy as np\n",
    "import matplotlib.pyplot as plt\n",
    "from cubic_subproblem_solver import *"
   ]
  },
  {
   "cell_type": "markdown",
   "metadata": {},
   "source": [
    "# Helper functions"
   ]
  },
  {
   "cell_type": "code",
   "execution_count": 10,
   "metadata": {},
   "outputs": [],
   "source": [
    "def sigmoid(t: np.array):\n",
    "    # if t.dtype is integer, computation will fail\n",
    "    assert t.dtype == np.float64 or t.dtype == np.float32\n",
    "    mask = t >= 0\n",
    "    t[mask] = 1 / (1 + np.exp(-t[mask]))\n",
    "    t[~mask] = 1 - 1 / (1 + np.exp(t[~mask]))\n",
    "    return t\n",
    "\n",
    "\n",
    "def train_Cubic_Newton(X, y, w0, n_iters, M_0):\n",
    "    losses = []\n",
    "    grads_norm = []\n",
    "    M = M_0\n",
    "    w = w0\n",
    "    losses.append(loss(X,y,w))\n",
    "    grads_norm.append(np.linalg.norm(gradient(X,y,w),2))\n",
    "    for i in range(n_iters):\n",
    "        loss_ = loss(X,y,w)\n",
    "        grad = gradient(X,y,w)\n",
    "        hess = hessian(X, y, w)\n",
    "        h = cubic_subproblem_solver(grad, hess, M)\n",
    "        w_next = w + h\n",
    "        while (loss(X,y,w_next) > quadratic_form(loss_,grad,hess,M,w,w_next)):\n",
    "            M *= 2\n",
    "            h = cubic_subproblem_solver(grad, hess, M)\n",
    "            w_next = w + h\n",
    "        w = w_next\n",
    "        losses.append(loss(X,y,w))\n",
    "        grads_norm.append(np.linalg.norm(gradient(X,y,w),2))\n",
    "        M /= 2\n",
    "        print(f'iter {i+1: 3,d}: loss = {loss(X,y,w): .16f}, M = {M}')\n",
    "    return w, losses, grads_norm\n",
    "\n",
    "\n",
    "def train_GD(X, y, w0, n_iters, lr, print_every=10):\n",
    "    losses = []\n",
    "    grads_norm = []\n",
    "    w = w0\n",
    "    losses.append(loss(X,y,w))\n",
    "    grads_norm.append(np.linalg.norm(gradient(X,y,w),2))\n",
    "    for i in range(n_iters):\n",
    "        grad = gradient(X,y,w)\n",
    "        w = w - lr * grad\n",
    "        losses.append(loss(X,y,w))\n",
    "        grads_norm.append(np.linalg.norm(gradient(X,y,w),2))\n",
    "        if (i+1) % print_every == 0:\n",
    "            print(f'iter {i+1: 4,d}: loss = {loss(X,y,w): .16f}')\n",
    "    return w, losses, grads_norm"
   ]
  },
  {
   "cell_type": "markdown",
   "metadata": {},
   "source": [
    "# Regression with cubic loss"
   ]
  },
  {
   "cell_type": "markdown",
   "metadata": {},
   "source": [
    "$\\mathcal{L}(w) = \\frac{1}{N} \\sum_{i=1}^{N} |y_i - x_i^T w|^3$"
   ]
  },
  {
   "cell_type": "code",
   "execution_count": 3,
   "metadata": {},
   "outputs": [],
   "source": [
    "# Creating dataset\n",
    "np.random.seed(0)\n",
    "\n",
    "X = np.random.uniform(-10, 10, (1000, 5))\n",
    "X = np.insert(X,-1,values=1,axis=1) #add bias\n",
    "w_true = np.array([-2.73, 3.14, 2.71, -1.12, -4.56, 0.51])\n",
    "score = X @ w_true\n",
    "noise = np.random.randn(*score.shape)\n",
    "y = score + noise\n",
    "\n",
    "MIN_LOSS = 1.5365468146201695 # for seed == 0"
   ]
  },
  {
   "cell_type": "code",
   "execution_count": 4,
   "metadata": {},
   "outputs": [],
   "source": [
    "def loss(X, y, w):\n",
    "    return np.mean(np.abs(y - X@w)**3)\n",
    "\n",
    "def gradient(X, y, w):\n",
    "    N = X.shape[0]\n",
    "    err = y - X@w\n",
    "    return (-3/N) * X.T @ (err**2 * np.sign(err))\n",
    "\n",
    "def hessian(X, y, w):\n",
    "    N = X.shape[0]\n",
    "    err = y - X@w\n",
    "    return (6/N) * X.T @ np.diag(err*np.sign(err)) @ X\n",
    "\n",
    "def quadratic_form(loss_w, grad_w, hess_w, M, w, w_new):\n",
    "    diff = w_new - w\n",
    "    return loss_w + np.dot(grad_w,diff) + 0.5 * np.dot(hess_w @ diff, diff) + M/6 * np.linalg.norm(diff,2)**3"
   ]
  },
  {
   "cell_type": "code",
   "execution_count": 15,
   "metadata": {},
   "outputs": [
    {
     "name": "stdout",
     "output_type": "stream",
     "text": [
      "iter   1: loss =  4893.7238814278289283, M = 0.005\n",
      "iter   2: loss =  620.1284615723844809, M = 0.0025\n",
      "iter   3: loss =  81.7716564890963156, M = 0.00125\n",
      "iter   4: loss =  12.4713873545156861, M = 0.000625\n",
      "iter   5: loss =  2.9434991359761633, M = 0.0003125\n",
      "iter   6: loss =  1.6198184602893950, M = 0.00015625\n",
      "iter   7: loss =  1.5367639689818096, M = 7.8125e-05\n",
      "iter   8: loss =  1.5365468150483579, M = 3.90625e-05\n",
      "iter   9: loss =  1.5365468146201700, M = 1.953125e-05\n",
      "iter  10: loss =  1.5365468146201695, M = 9.765625e-06\n"
     ]
    }
   ],
   "source": [
    "w0 = np.zeros(X.shape[1])\n",
    "M_0 = 0.01\n",
    "n_iters = 10\n",
    "\n",
    "w, losses_CN, grads_CN = train_Cubic_Newton(X, y, w0, n_iters, M_0)"
   ]
  },
  {
   "cell_type": "code",
   "execution_count": 12,
   "metadata": {},
   "outputs": [
    {
     "name": "stdout",
     "output_type": "stream",
     "text": [
      "iter   10: loss =  82.2819120262399935\n",
      "iter   20: loss =  71.8273898511068296\n",
      "iter   30: loss =  65.0733046939768087\n",
      "iter   40: loss =  59.1916319526088017\n",
      "iter   50: loss =  54.0347042597647018\n",
      "iter   60: loss =  49.4926968752954224\n",
      "iter   70: loss =  45.4753132159012736\n",
      "iter   80: loss =  41.9077859131198664\n",
      "iter   90: loss =  38.7278408848623101\n",
      "iter  100: loss =  35.8833225066986472\n",
      "iter  110: loss =  33.3303216643935585\n",
      "iter  120: loss =  31.0316898901424274\n",
      "iter  130: loss =  28.9558547007917717\n",
      "iter  140: loss =  27.0758796162219930\n",
      "iter  150: loss =  25.3686890060419543\n",
      "iter  160: loss =  23.8144271522668234\n",
      "iter  170: loss =  22.3959382920807109\n",
      "iter  180: loss =  21.0983469994562789\n",
      "iter  190: loss =  19.9087097948514007\n",
      "iter  200: loss =  18.8157243256048616\n",
      "iter  210: loss =  17.8094921797115013\n",
      "iter  220: loss =  16.8813230925352613\n",
      "iter  230: loss =  16.0235687411032259\n",
      "iter  240: loss =  15.2294766960055750\n",
      "iter  250: loss =  14.4930679915782719\n",
      "iter  260: loss =  13.8090371082919852\n",
      "iter  270: loss =  13.1726666746493351\n",
      "iter  280: loss =  12.5797486271219157\n",
      "iter  290: loss =  12.0265192947913739\n",
      "iter  300: loss =  11.5096062259629210\n",
      "iter  310: loss =  11.0259803887465822\n",
      "iter  320: loss =  10.5729172606980946\n",
      "iter  330: loss =  10.1479605771067867\n",
      "iter  340: loss =  9.7488913199098164\n",
      "iter  350: loss =  9.3737027288632309\n",
      "iter  360: loss =  9.0205769770913005\n",
      "iter  370: loss =  8.6878644286652218\n",
      "iter  380: loss =  8.3740663724164666\n",
      "iter  390: loss =  8.0778187698902926\n",
      "iter  400: loss =  7.7978787005992434\n",
      "iter  410: loss =  7.5331103052796609\n",
      "iter  420: loss =  7.2824745840877343\n",
      "iter  430: loss =  7.0450192360715498\n",
      "iter  440: loss =  6.8198702169058345\n",
      "iter  450: loss =  6.6062239781503651\n",
      "iter  460: loss =  6.4033414819421690\n",
      "iter  470: loss =  6.2105415985452881\n",
      "iter  480: loss =  6.0271952812626033\n",
      "iter  490: loss =  5.8527211324705730\n",
      "iter  500: loss =  5.6865810076150352\n",
      "iter  510: loss =  5.5282763426513233\n",
      "iter  520: loss =  5.3773447251024038\n",
      "iter  530: loss =  5.2333569829294317\n",
      "iter  540: loss =  5.0959141013955032\n",
      "iter  550: loss =  4.9646450479999258\n",
      "iter  560: loss =  4.8392048795848099\n",
      "iter  570: loss =  4.7192724994181061\n",
      "iter  580: loss =  4.6045487144422586\n",
      "iter  590: loss =  4.4947542135302001\n",
      "iter  600: loss =  4.3896278374634399\n",
      "iter  610: loss =  4.2889251646158444\n",
      "iter  620: loss =  4.1924174508520649\n",
      "iter  630: loss =  4.0998906152529235\n",
      "iter  640: loss =  4.0111440469080630\n",
      "iter  650: loss =  3.9259893714251675\n",
      "iter  660: loss =  3.8442494604368305\n",
      "iter  670: loss =  3.7657576877578145\n",
      "iter  680: loss =  3.6903573286056828\n",
      "iter  690: loss =  3.6179009363709729\n",
      "iter  700: loss =  3.5482495228157052\n",
      "iter  710: loss =  3.4812719858185344\n",
      "iter  720: loss =  3.4168447795554648\n",
      "iter  730: loss =  3.3548513671330373\n",
      "iter  740: loss =  3.2951816495806341\n",
      "iter  750: loss =  3.2377316266768363\n",
      "iter  760: loss =  3.1824029591116343\n",
      "iter  770: loss =  3.1291026116600942\n",
      "iter  780: loss =  3.0777425321922962\n",
      "iter  790: loss =  3.0282393098041123\n",
      "iter  800: loss =  2.9805138291820157\n",
      "iter  810: loss =  2.9344910395612942\n",
      "iter  820: loss =  2.8900997477975223\n",
      "iter  830: loss =  2.8472723600821119\n",
      "iter  840: loss =  2.8059446252810147\n",
      "iter  850: loss =  2.7660554184699673\n",
      "iter  860: loss =  2.7275466231220262\n",
      "iter  870: loss =  2.6903630095000608\n",
      "iter  880: loss =  2.6544519942522840\n",
      "iter  890: loss =  2.6197634791111981\n",
      "iter  900: loss =  2.5862496948458129\n",
      "iter  910: loss =  2.5538650608831079\n",
      "iter  920: loss =  2.5225661023983665\n",
      "iter  930: loss =  2.4923113304330853\n",
      "iter  940: loss =  2.4630611108434097\n",
      "iter  950: loss =  2.4347775619623362\n",
      "iter  960: loss =  2.4074245194571833\n",
      "iter  970: loss =  2.3809674553116476\n",
      "iter  980: loss =  2.3553733564772346\n",
      "iter  990: loss =  2.3306106395385378\n",
      "iter  1,000: loss =  2.3066490819700745\n"
     ]
    }
   ],
   "source": [
    "w0 = np.zeros(X.shape[1])\n",
    "n_iters = 1000\n",
    "lr = 3e-4 # 1e-3 already diverges\n",
    "w, losses_GD, grads_GD = train_GD(X, y, w0, n_iters, lr)"
   ]
  },
  {
   "cell_type": "code",
   "execution_count": 20,
   "metadata": {},
   "outputs": [
    {
     "data": {
      "image/png": "[encoded data removed]",
      "text/plain": [
       "<Figure size 432x288 with 1 Axes>"
      ]
     },
     "metadata": {
      "needs_background": "light"
     },
     "output_type": "display_data"
    }
   ],
   "source": [
    "plt.plot(iters_CN, losses_CN-MIN_LOSS, label='CN')\n",
    "plt.plot(iters_GD, losses_GD-MIN_LOSS, label='GD')\n",
    "plt.legend()\n",
    "plt.yscale('log')\n",
    "plt.ylabel('f(x) - f*')\n",
    "plt.xlabel('Iteration')\n",
    "plt.show()"
   ]
  },
  {
   "cell_type": "code",
   "execution_count": 21,
   "metadata": {},
   "outputs": [
    {
     "data": {
      "image/png": "[encoded data removed]",
      "text/plain": [
       "<Figure size 432x288 with 1 Axes>"
      ]
     },
     "metadata": {
      "needs_background": "light"
     },
     "output_type": "display_data"
    }
   ],
   "source": [
    "plt.plot(iters_CN, grads_CN, label='CN')\n",
    "plt.plot(iters_GD, grads_GD, label='GD')\n",
    "plt.legend()\n",
    "plt.yscale('log')\n",
    "plt.ylabel('Gradient norm')\n",
    "plt.xlabel('Iteration')\n",
    "plt.show()"
   ]
  },
  {
   "cell_type": "markdown",
   "metadata": {},
   "source": [
    "# Logistic regression"
   ]
  },
  {
   "cell_type": "markdown",
   "metadata": {},
   "source": [
    "$\\mathcal{L}(w) = \\frac{1}{N} \\sum_{i=1}^N \\log \\left( 1 + \\exp(-y_i x_i^T w) \\right)$"
   ]
  },
  {
   "cell_type": "code",
   "execution_count": 7,
   "metadata": {},
   "outputs": [
    {
     "name": "stdout",
     "output_type": "stream",
     "text": [
      "490 samples of positive class and 510 samples of negative class\n"
     ]
    }
   ],
   "source": [
    "# Creating dataset\n",
    "\n",
    "X = np.random.uniform(-10, 10, (1000, 5))\n",
    "w_true = np.array([3.14, 2.71, -1.12, -4.56, 0.51])\n",
    "score = X @ w_true\n",
    "noise = np.random.randn(*score.shape) * 25\n",
    "y = np.sign(score + noise)\n",
    "\n",
    "c1 = y[y == 1].size\n",
    "c2 = y[y == -1].size\n",
    "print(f'{c1} samples of positive class and {c2} samples of negative class')"
   ]
  },
  {
   "cell_type": "code",
   "execution_count": 8,
   "metadata": {},
   "outputs": [],
   "source": [
    "def loss(X, y, w):\n",
    "    return np.mean(- np.log(sigmoid(y * (X@w))))\n",
    "\n",
    "def gradient(X, y, w):\n",
    "    N = X.shape[0]\n",
    "    return (1/N) * X.T @ (-y * sigmoid(-y * (X@w)))\n",
    "\n",
    "def hessian(X, y, w):\n",
    "    N = X.shape[0]\n",
    "    probs = sigmoid(-y*(X@w))\n",
    "    return (1/N) * X.T @ np.diag(probs*(1-probs)) @ X\n",
    "\n",
    "def quadratic_form(loss_w, grad_w, hess_w, M, w, w_new):\n",
    "    diff = w_new - w\n",
    "    return loss_w + np.dot(grad_w,diff) + 0.5 * np.dot(hess_w @ diff, diff) + M/6 * np.linalg.norm(diff,2)**3"
   ]
  },
  {
   "cell_type": "code",
   "execution_count": 9,
   "metadata": {},
   "outputs": [
    {
     "name": "stdout",
     "output_type": "stream",
     "text": [
      "iter   1: loss =  0.43857, M = 0.005\n",
      "iter   2: loss =  0.40460, M = 0.0025\n",
      "iter   3: loss =  0.40068, M = 0.00125\n",
      "iter   4: loss =  0.40060, M = 0.000625\n",
      "iter   5: loss =  0.40060, M = 0.0003125\n",
      "iter   6: loss =  0.40060, M = 0.005\n",
      "iter   7: loss =  0.40060, M = 0.0025\n",
      "iter   8: loss =  0.40060, M = 0.00125\n",
      "iter   9: loss =  0.40060, M = 0.000625\n",
      "iter  10: loss =  0.40060, M = 0.0003125\n"
     ]
    }
   ],
   "source": [
    "w0 = np.zeros(X.shape[1])\n",
    "M_0 = 0.01\n",
    "n_iters = 10\n",
    "\n",
    "w = train_Cubic_Newton(X, y, w0, n_iters, M_0)"
   ]
  },
  {
   "cell_type": "code",
   "execution_count": 10,
   "metadata": {},
   "outputs": [
    {
     "name": "stdout",
     "output_type": "stream",
     "text": [
      "iter    1: loss =  0.45788\n",
      "iter    2: loss =  0.42787\n",
      "iter    3: loss =  0.41595\n",
      "iter    4: loss =  0.40996\n",
      "iter    5: loss =  0.40658\n",
      "iter    6: loss =  0.40454\n",
      "iter    7: loss =  0.40326\n",
      "iter    8: loss =  0.40242\n",
      "iter    9: loss =  0.40186\n",
      "iter   10: loss =  0.40148\n",
      "iter   11: loss =  0.40122\n",
      "iter   12: loss =  0.40104\n",
      "iter   13: loss =  0.40091\n",
      "iter   14: loss =  0.40082\n",
      "iter   15: loss =  0.40076\n",
      "iter   16: loss =  0.40071\n",
      "iter   17: loss =  0.40068\n",
      "iter   18: loss =  0.40066\n",
      "iter   19: loss =  0.40064\n",
      "iter   20: loss =  0.40063\n",
      "iter   21: loss =  0.40062\n",
      "iter   22: loss =  0.40061\n",
      "iter   23: loss =  0.40061\n",
      "iter   24: loss =  0.40061\n",
      "iter   25: loss =  0.40060\n",
      "iter   26: loss =  0.40060\n",
      "iter   27: loss =  0.40060\n",
      "iter   28: loss =  0.40060\n",
      "iter   29: loss =  0.40060\n",
      "iter   30: loss =  0.40060\n",
      "iter   31: loss =  0.40060\n",
      "iter   32: loss =  0.40060\n",
      "iter   33: loss =  0.40060\n",
      "iter   34: loss =  0.40060\n",
      "iter   35: loss =  0.40060\n",
      "iter   36: loss =  0.40060\n",
      "iter   37: loss =  0.40060\n",
      "iter   38: loss =  0.40060\n",
      "iter   39: loss =  0.40060\n",
      "iter   40: loss =  0.40060\n",
      "iter   41: loss =  0.40060\n",
      "iter   42: loss =  0.40060\n",
      "iter   43: loss =  0.40060\n",
      "iter   44: loss =  0.40060\n",
      "iter   45: loss =  0.40060\n",
      "iter   46: loss =  0.40060\n",
      "iter   47: loss =  0.40060\n",
      "iter   48: loss =  0.40060\n",
      "iter   49: loss =  0.40060\n",
      "iter   50: loss =  0.40060\n"
     ]
    }
   ],
   "source": [
    "w0 = np.zeros(X.shape[1])\n",
    "n_iters = 50\n",
    "lr = 0.1\n",
    "w = train_GD(X, y, w0, n_iters, lr)"
   ]
  }
 ],
 "metadata": {
  "kernelspec": {
   "display_name": "Python 3",
   "language": "python",
   "name": "python3"
  },
  "language_info": {
   "codemirror_mode": {
    "name": "ipython",
    "version": 3
   },
   "file_extension": ".py",
   "mimetype": "text/x-python",
   "name": "python",
   "nbconvert_exporter": "python",
   "pygments_lexer": "ipython3",
   "version": "3.7.9"
  }
 },
 "nbformat": 4,
 "nbformat_minor": 4
}
